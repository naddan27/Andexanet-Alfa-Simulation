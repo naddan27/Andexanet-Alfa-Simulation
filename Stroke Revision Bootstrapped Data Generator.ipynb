{
 "cells": [
  {
   "cell_type": "code",
   "execution_count": 34,
   "metadata": {},
   "outputs": [
    {
     "output_type": "stream",
     "name": "stdout",
     "text": [
      "The autoreload extension is already loaded. To reload it, use:\n  %reload_ext autoreload\n"
     ]
    }
   ],
   "source": [
    "%load_ext autoreload\n",
    "%autoreload 2"
   ]
  },
  {
   "cell_type": "code",
   "execution_count": 35,
   "metadata": {},
   "outputs": [],
   "source": [
    "from _stroke_revision_helper import *\n",
    "import subsets\n",
    "from ihe_model import *\n",
    "from mrs_model import *\n",
    "from general_helper import *\n",
    "from bootstrapping_ci import *\n",
    "from scipy.stats import chisquare\n",
    "from collections import Counter, OrderedDict\n",
    "import pickle\n",
    "import pandas as pd\n",
    "import numpy as np"
   ]
  },
  {
   "cell_type": "markdown",
   "metadata": {},
   "source": [
    "# Data Analysis for Stroke Revision\n",
    "\n",
    "## Basic Organization and Demographics of Our Data\n",
    "4 subsets of of IHE data and mRS data are shown. mRS data is just a subset of the IHE data where mRS was available. The first \"subset\" is all of the patients. The second subset is the ANNEXA-4 Comparable cohort. The third subset is the ANNEXA-4 excluded cohort. The fourth subset is for our secondary analysis on ANNEXA-4 Comparable patients with GCS scores of 13-15\n",
    "#### IHE Data"
   ]
  },
  {
   "cell_type": "code",
   "execution_count": 4,
   "metadata": {},
   "outputs": [
    {
     "output_type": "execute_result",
     "data": {
      "text/plain": [
       "['log_age', 'log_ich_volume', 'gcs_initial1', 'gcs_initial2', 'ivh']"
      ]
     },
     "metadata": {},
     "execution_count": 4
    }
   ],
   "source": [
    "mrs_csv_features[:-1]"
   ]
  },
  {
   "cell_type": "code",
   "execution_count": 1,
   "metadata": {},
   "outputs": [
    {
     "output_type": "stream",
     "name": "stdout",
     "text": [
      "Getting patients with a higher likelihood of a favorable functional outcome\namong the ANNEXA-4 comparable cohort...\n\tCMO/WLST status at any time in hospital stay: 54 removed\n\tDischarged to Hospice: 5 removed\n\tDead at Discharge (mRS = 6): 15 removed\n\tInitial GCS Score not 13-15: 41 removed\n\n"
     ]
    },
    {
     "output_type": "execute_result",
     "data": {
      "text/plain": [
       "     Unnamed: 0  Hypertension (HTN)  Atrial fibrillation (AF/A-fib)  \\\n",
       "0             2                 1.0                             0.0   \n",
       "1             3                 1.0                             0.0   \n",
       "2             6                 1.0                             0.0   \n",
       "3            15                 0.0                             1.0   \n",
       "4            18                 1.0                             0.0   \n",
       "..          ...                 ...                             ...   \n",
       "204         645                 1.0                             0.0   \n",
       "205         655                 1.0                             0.0   \n",
       "206         656                 1.0                             0.0   \n",
       "207         661                 1.0                             0.0   \n",
       "208         662                 1.0                             0.0   \n",
       "\n",
       "     Coronary artery disease (CAD)  Diabetes (DM)  \\\n",
       "0                              0.0            0.0   \n",
       "1                              0.0            0.0   \n",
       "2                              0.0            0.0   \n",
       "3                              0.0            0.0   \n",
       "4                              0.0            0.0   \n",
       "..                             ...            ...   \n",
       "204                            0.0            0.0   \n",
       "205                            0.0            0.0   \n",
       "206                            1.0            1.0   \n",
       "207                            0.0            0.0   \n",
       "208                            0.0            0.0   \n",
       "\n",
       "     Chronic kidney disease (CKD)  \\\n",
       "0                             0.0   \n",
       "1                             0.0   \n",
       "2                             0.0   \n",
       "3                             0.0   \n",
       "4                             0.0   \n",
       "..                            ...   \n",
       "204                           0.0   \n",
       "205                           0.0   \n",
       "206                           0.0   \n",
       "207                           0.0   \n",
       "208                           1.0   \n",
       "\n",
       "     Prior cancer/malignancy/tumor (specify in comments)  \\\n",
       "0                                                  0.0     \n",
       "1                                                  0.0     \n",
       "2                                                  0.0     \n",
       "3                                                  0.0     \n",
       "4                                                  1.0     \n",
       "..                                                 ...     \n",
       "204                                                0.0     \n",
       "205                                                0.0     \n",
       "206                                                0.0     \n",
       "207                                                1.0     \n",
       "208                                                0.0     \n",
       "\n",
       "     ich_etiology-Hypertensive  \\\n",
       "0                          0.0   \n",
       "1                          1.0   \n",
       "2                          0.0   \n",
       "3                          1.0   \n",
       "4                          1.0   \n",
       "..                         ...   \n",
       "204                        1.0   \n",
       "205                        1.0   \n",
       "206                        0.0   \n",
       "207                        1.0   \n",
       "208                        1.0   \n",
       "\n",
       "     ich_etiology-Cerebral amyloid angiopathy (CAA)  study_id  ...  \\\n",
       "0                                               0.0       3.0  ...   \n",
       "1                                               0.0       4.0  ...   \n",
       "2                                               0.0       7.0  ...   \n",
       "3                                               0.0      16.0  ...   \n",
       "4                                               0.0      19.0  ...   \n",
       "..                                              ...       ...  ...   \n",
       "204                                             0.0     645.0  ...   \n",
       "205                                             0.0     655.0  ...   \n",
       "206                                             1.0     656.0  ...   \n",
       "207                                             0.0     661.0  ...   \n",
       "208                                             0.0     662.0  ...   \n",
       "\n",
       "     discharged_to_hospice  ich_volume_over_equal_50_ml  discharge_location  \\\n",
       "0                      0.0                            0                 1.0   \n",
       "1                      0.0                            0                 1.0   \n",
       "2                      0.0                            0                 1.0   \n",
       "3                      0.0                            0                 2.0   \n",
       "4                      0.0                            0                 2.0   \n",
       "..                     ...                          ...                 ...   \n",
       "204                    0.0                            0                 3.0   \n",
       "205                    0.0                            0                 2.0   \n",
       "206                    0.0                            0                 2.0   \n",
       "207                    0.0                            0                 3.0   \n",
       "208                    0.0                            0                 3.0   \n",
       "\n",
       "     codestatus   age  race  sex  mrs_3m  binary_mrs_3m  mrs_discharge  \n",
       "0           1.0  48.0   4.0  1.0     0.0              0            0.0  \n",
       "1           1.0  68.0   4.0  1.0     0.0              0            2.0  \n",
       "2           1.0  60.0   7.0  1.0     4.0              1            4.0  \n",
       "3           1.0  87.0   4.0  1.0     2.0              0            3.0  \n",
       "4           1.0  88.0   4.0  1.0     3.0              0            3.0  \n",
       "..          ...   ...   ...  ...     ...            ...            ...  \n",
       "204         1.0  53.0   7.0  1.0     4.0              1            4.0  \n",
       "205         1.0  53.0   4.0  0.0     3.0              0            4.0  \n",
       "206         3.0  78.0   4.0  1.0     3.0              0            4.0  \n",
       "207         3.0  87.0   4.0  0.0     6.0              1            5.0  \n",
       "208         3.0  87.0   4.0  1.0     6.0              1            4.0  \n",
       "\n",
       "[209 rows x 64 columns]"
      ],
      "text/html": "<div>\n<style scoped>\n    .dataframe tbody tr th:only-of-type {\n        vertical-align: middle;\n    }\n\n    .dataframe tbody tr th {\n        vertical-align: top;\n    }\n\n    .dataframe thead th {\n        text-align: right;\n    }\n</style>\n<table border=\"1\" class=\"dataframe\">\n  <thead>\n    <tr style=\"text-align: right;\">\n      <th></th>\n      <th>Unnamed: 0</th>\n      <th>Hypertension (HTN)</th>\n      <th>Atrial fibrillation (AF/A-fib)</th>\n      <th>Coronary artery disease (CAD)</th>\n      <th>Diabetes (DM)</th>\n      <th>Chronic kidney disease (CKD)</th>\n      <th>Prior cancer/malignancy/tumor (specify in comments)</th>\n      <th>ich_etiology-Hypertensive</th>\n      <th>ich_etiology-Cerebral amyloid angiopathy (CAA)</th>\n      <th>study_id</th>\n      <th>...</th>\n      <th>discharged_to_hospice</th>\n      <th>ich_volume_over_equal_50_ml</th>\n      <th>discharge_location</th>\n      <th>codestatus</th>\n      <th>age</th>\n      <th>race</th>\n      <th>sex</th>\n      <th>mrs_3m</th>\n      <th>binary_mrs_3m</th>\n      <th>mrs_discharge</th>\n    </tr>\n  </thead>\n  <tbody>\n    <tr>\n      <th>0</th>\n      <td>2</td>\n      <td>1.0</td>\n      <td>0.0</td>\n      <td>0.0</td>\n      <td>0.0</td>\n      <td>0.0</td>\n      <td>0.0</td>\n      <td>0.0</td>\n      <td>0.0</td>\n      <td>3.0</td>\n      <td>...</td>\n      <td>0.0</td>\n      <td>0</td>\n      <td>1.0</td>\n      <td>1.0</td>\n      <td>48.0</td>\n      <td>4.0</td>\n      <td>1.0</td>\n      <td>0.0</td>\n      <td>0</td>\n      <td>0.0</td>\n    </tr>\n    <tr>\n      <th>1</th>\n      <td>3</td>\n      <td>1.0</td>\n      <td>0.0</td>\n      <td>0.0</td>\n      <td>0.0</td>\n      <td>0.0</td>\n      <td>0.0</td>\n      <td>1.0</td>\n      <td>0.0</td>\n      <td>4.0</td>\n      <td>...</td>\n      <td>0.0</td>\n      <td>0</td>\n      <td>1.0</td>\n      <td>1.0</td>\n      <td>68.0</td>\n      <td>4.0</td>\n      <td>1.0</td>\n      <td>0.0</td>\n      <td>0</td>\n      <td>2.0</td>\n    </tr>\n    <tr>\n      <th>2</th>\n      <td>6</td>\n      <td>1.0</td>\n      <td>0.0</td>\n      <td>0.0</td>\n      <td>0.0</td>\n      <td>0.0</td>\n      <td>0.0</td>\n      <td>0.0</td>\n      <td>0.0</td>\n      <td>7.0</td>\n      <td>...</td>\n      <td>0.0</td>\n      <td>0</td>\n      <td>1.0</td>\n      <td>1.0</td>\n      <td>60.0</td>\n      <td>7.0</td>\n      <td>1.0</td>\n      <td>4.0</td>\n      <td>1</td>\n      <td>4.0</td>\n    </tr>\n    <tr>\n      <th>3</th>\n      <td>15</td>\n      <td>0.0</td>\n      <td>1.0</td>\n      <td>0.0</td>\n      <td>0.0</td>\n      <td>0.0</td>\n      <td>0.0</td>\n      <td>1.0</td>\n      <td>0.0</td>\n      <td>16.0</td>\n      <td>...</td>\n      <td>0.0</td>\n      <td>0</td>\n      <td>2.0</td>\n      <td>1.0</td>\n      <td>87.0</td>\n      <td>4.0</td>\n      <td>1.0</td>\n      <td>2.0</td>\n      <td>0</td>\n      <td>3.0</td>\n    </tr>\n    <tr>\n      <th>4</th>\n      <td>18</td>\n      <td>1.0</td>\n      <td>0.0</td>\n      <td>0.0</td>\n      <td>0.0</td>\n      <td>0.0</td>\n      <td>1.0</td>\n      <td>1.0</td>\n      <td>0.0</td>\n      <td>19.0</td>\n      <td>...</td>\n      <td>0.0</td>\n      <td>0</td>\n      <td>2.0</td>\n      <td>1.0</td>\n      <td>88.0</td>\n      <td>4.0</td>\n      <td>1.0</td>\n      <td>3.0</td>\n      <td>0</td>\n      <td>3.0</td>\n    </tr>\n    <tr>\n      <th>...</th>\n      <td>...</td>\n      <td>...</td>\n      <td>...</td>\n      <td>...</td>\n      <td>...</td>\n      <td>...</td>\n      <td>...</td>\n      <td>...</td>\n      <td>...</td>\n      <td>...</td>\n      <td>...</td>\n      <td>...</td>\n      <td>...</td>\n      <td>...</td>\n      <td>...</td>\n      <td>...</td>\n      <td>...</td>\n      <td>...</td>\n      <td>...</td>\n      <td>...</td>\n      <td>...</td>\n    </tr>\n    <tr>\n      <th>204</th>\n      <td>645</td>\n      <td>1.0</td>\n      <td>0.0</td>\n      <td>0.0</td>\n      <td>0.0</td>\n      <td>0.0</td>\n      <td>0.0</td>\n      <td>1.0</td>\n      <td>0.0</td>\n      <td>645.0</td>\n      <td>...</td>\n      <td>0.0</td>\n      <td>0</td>\n      <td>3.0</td>\n      <td>1.0</td>\n      <td>53.0</td>\n      <td>7.0</td>\n      <td>1.0</td>\n      <td>4.0</td>\n      <td>1</td>\n      <td>4.0</td>\n    </tr>\n    <tr>\n      <th>205</th>\n      <td>655</td>\n      <td>1.0</td>\n      <td>0.0</td>\n      <td>0.0</td>\n      <td>0.0</td>\n      <td>0.0</td>\n      <td>0.0</td>\n      <td>1.0</td>\n      <td>0.0</td>\n      <td>655.0</td>\n      <td>...</td>\n      <td>0.0</td>\n      <td>0</td>\n      <td>2.0</td>\n      <td>1.0</td>\n      <td>53.0</td>\n      <td>4.0</td>\n      <td>0.0</td>\n      <td>3.0</td>\n      <td>0</td>\n      <td>4.0</td>\n    </tr>\n    <tr>\n      <th>206</th>\n      <td>656</td>\n      <td>1.0</td>\n      <td>0.0</td>\n      <td>1.0</td>\n      <td>1.0</td>\n      <td>0.0</td>\n      <td>0.0</td>\n      <td>0.0</td>\n      <td>1.0</td>\n      <td>656.0</td>\n      <td>...</td>\n      <td>0.0</td>\n      <td>0</td>\n      <td>2.0</td>\n      <td>3.0</td>\n      <td>78.0</td>\n      <td>4.0</td>\n      <td>1.0</td>\n      <td>3.0</td>\n      <td>0</td>\n      <td>4.0</td>\n    </tr>\n    <tr>\n      <th>207</th>\n      <td>661</td>\n      <td>1.0</td>\n      <td>0.0</td>\n      <td>0.0</td>\n      <td>0.0</td>\n      <td>0.0</td>\n      <td>1.0</td>\n      <td>1.0</td>\n      <td>0.0</td>\n      <td>661.0</td>\n      <td>...</td>\n      <td>0.0</td>\n      <td>0</td>\n      <td>3.0</td>\n      <td>3.0</td>\n      <td>87.0</td>\n      <td>4.0</td>\n      <td>0.0</td>\n      <td>6.0</td>\n      <td>1</td>\n      <td>5.0</td>\n    </tr>\n    <tr>\n      <th>208</th>\n      <td>662</td>\n      <td>1.0</td>\n      <td>0.0</td>\n      <td>0.0</td>\n      <td>0.0</td>\n      <td>1.0</td>\n      <td>0.0</td>\n      <td>1.0</td>\n      <td>0.0</td>\n      <td>662.0</td>\n      <td>...</td>\n      <td>0.0</td>\n      <td>0</td>\n      <td>3.0</td>\n      <td>3.0</td>\n      <td>87.0</td>\n      <td>4.0</td>\n      <td>1.0</td>\n      <td>6.0</td>\n      <td>1</td>\n      <td>4.0</td>\n    </tr>\n  </tbody>\n</table>\n<p>209 rows × 64 columns</p>\n</div>"
     },
     "metadata": {},
     "execution_count": 1
    }
   ],
   "source": [
    "from predictive_models import IHE_Model, Poor_Outcome_Model, pull_ihe_features_from_json, pull_outcome_features_from_json\n",
    "import pandas as pd\n",
    "from subsets import *\n",
    "import json\n",
    "feature_dictionary = json.load(open(\"variable_names.json\", mode=\"r\"))\n",
    "\n",
    "ihe_csv_features, ihe_full_features = pull_ihe_features_from_json(feature_dictionary)\n",
    "ihe_outcome_name = \"inefficient_hemo\"\n",
    "ihe_df = pd.read_csv(\"./../Dataset/stroke_ihe.csv\")\n",
    "\n",
    "# ihe_model = IHE_Model(ihe_csv_features[:-1], ihe_csv_features[-1], ihe_df, smote = True, smote_proportion = 1.0, random_state = 999)\n",
    "\n",
    "mrs_df = pd.read_csv(\"./../Dataset/stroke_mrs.csv\")\n",
    "# mrs_csv_features, mrs_full_features, ihe_probability_name = pull_outcome_features_from_json(feature_dictionary)\n",
    "# mrs_df[ihe_probability_name] = ihe_model.predict_proba(mrs_df)[:, 1]\n",
    "\n",
    "# mrs_model = Poor_Outcome_Model(mrs_csv_features[:-1], mrs_csv_features[-1], mrs_df, random_state = 999)\n",
    "# x = mrs_model.predict_proba(mrs_df)[:, 1]\n",
    "\n",
    "get_higher_likelihood_of_favorable_outcome_in_ANNEXA4_cohort(mrs_df, feature_dictionary)"
   ]
  },
  {
   "cell_type": "code",
   "execution_count": 2,
   "metadata": {},
   "outputs": [
    {
     "output_type": "error",
     "ename": "NameError",
     "evalue": "name 'OrderedDict' is not defined",
     "traceback": [
      "\u001b[1;31m---------------------------------------------------------------------------\u001b[0m",
      "\u001b[1;31mNameError\u001b[0m                                 Traceback (most recent call last)",
      "\u001b[1;32m<ipython-input-2-bf51e7037010>\u001b[0m in \u001b[0;36m<module>\u001b[1;34m\u001b[0m\n\u001b[0;32m      9\u001b[0m \u001b[1;33m\u001b[0m\u001b[0m\n\u001b[0;32m     10\u001b[0m \u001b[1;31m#set the feature dictionary for the IHE Model\u001b[0m\u001b[1;33m\u001b[0m\u001b[1;33m\u001b[0m\u001b[1;33m\u001b[0m\u001b[0m\n\u001b[1;32m---> 11\u001b[1;33m \u001b[0mihe_feature_names_dict\u001b[0m \u001b[1;33m=\u001b[0m \u001b[0mOrderedDict\u001b[0m\u001b[1;33m(\u001b[0m\u001b[1;33m)\u001b[0m\u001b[1;33m\u001b[0m\u001b[1;33m\u001b[0m\u001b[0m\n\u001b[0m\u001b[0;32m     12\u001b[0m \u001b[0mihe_feature_names_dict\u001b[0m\u001b[1;33m[\u001b[0m\u001b[1;34m'log_ich_volume'\u001b[0m\u001b[1;33m]\u001b[0m \u001b[1;33m=\u001b[0m \u001b[1;34m\"Log-transformed initial ICH volume\"\u001b[0m\u001b[1;33m\u001b[0m\u001b[1;33m\u001b[0m\u001b[0m\n\u001b[0;32m     13\u001b[0m \u001b[0mihe_feature_names_dict\u001b[0m\u001b[1;33m[\u001b[0m\u001b[1;34m'log_lkw_hct1'\u001b[0m\u001b[1;33m]\u001b[0m \u001b[1;33m=\u001b[0m \u001b[1;34m\"Log-transformed hours from LKW to hospital arrival\"\u001b[0m\u001b[1;33m\u001b[0m\u001b[1;33m\u001b[0m\u001b[0m\n",
      "\u001b[1;31mNameError\u001b[0m: name 'OrderedDict' is not defined"
     ]
    }
   ],
   "source": [
    "ihe_df = pd.read_csv(\"./../Dataset/stroke_ihe.csv\")\n",
    "\n",
    "ihe_df[\"iswhite\"] = (ihe_df.race == 4) * 1\n",
    "ihe_df['expansion_percentage'] = ihe_df.bleed_exp_vol / ihe_df.ich_volume\n",
    "ihe_df['ihe_26'] = np.where(ihe_df['expansion_percentage'] > 0.26, 1, 0)\n",
    "demographics = ['age', 'iswhite', 'sex']\n",
    "ihe_variable_name = \"ihe_26\" #choose inefficient_hemo for 35% and ihe_26 for 26%\n",
    "ihe_df = ihe_df.drop(columns = ['inefficient_hemo'])\n",
    "\n",
    "#set the feature dictionary for the IHE Model\n",
    "ihe_feature_names_dict = OrderedDict()\n",
    "ihe_feature_names_dict['log_ich_volume'] = \"Log-transformed initial ICH volume\"\n",
    "ihe_feature_names_dict['log_lkw_hct1'] = \"Log-transformed hours from LKW to hospital arrival\"\n",
    "ihe_feature_names_dict['anticoag_home___1'] = \"Warfarin Use\"\n",
    "ihe_feature_names_dict['xa_inhib'] = \"FXa inhibitor use\"\n",
    "ihe_feature_names_dict['ich_spotsign'] = \"CTA spot sign\"\n",
    "ihe_feature_names_dict['other_coag'] = \"Other Coagulopathy\"\n",
    "ihe_feature_names_dict['soc___1'] = \"Prior alcohol abuse\"\n",
    "ihe_feature_names_dict[\"one_antiplatelet_use\"] = \"Single Antiplatelet\"\n",
    "ihe_feature_names_dict[\"two_antiplatelet_use\"] = \"Double Antiplatelet\"\n",
    "ihe_feature_names_dict['arrival_sbp'] = \"Systolic BP on Arrival\"\n",
    "\n",
    "ihe_outcome_name_dict = {ihe_variable_name: \"IHE\"}\n",
    "\n",
    "#get the subsets for the IHE model\n",
    "ihe_included_df, ihe_excluded_df = subsets.get_included_excluded_df(ihe_df)\n",
    "ihe_included_df_gcs13_15 = ihe_included_df[ihe_included_df.gcs_initial0 == 1]\n",
    "ihe_included_df_gcs13_15.reset_index(inplace = True)\n",
    "ihe_fxai_subset_from_full = ihe_df[ihe_df.xa_inhib == 1]\n",
    "ihe_fxai_subset_from_full.reset_index(inplace = True)"
   ]
  },
  {
   "cell_type": "markdown",
   "metadata": {},
   "source": [
    "#### mRS Data"
   ]
  },
  {
   "cell_type": "code",
   "execution_count": null,
   "metadata": {},
   "outputs": [],
   "source": [
    "mrs_df = pd.read_csv(\"./../Dataset/stroke_mrs.csv\")\n",
    "\n",
    "mrs_df[\"iswhite\"] = (mrs_df.race == 4) * 1\n",
    "demographics = ['age', 'iswhite', 'sex']\n",
    "\n",
    "#set the feature dictionary for the mRS Model\n",
    "mrs_feature_names_dict = OrderedDict()\n",
    "mrs_feature_names_dict['log_age'] = \"Log-transformed Age\"\n",
    "# mrs_feature_names_dict['ich_volume_over_equal_50_ml'] = \"Initial ICH Volume >= 50cc\"\n",
    "mrs_feature_names_dict['log_ich_volume'] = \"Log-transformed initial ICH volume\"\n",
    "mrs_feature_names_dict['gcs_initial1'] = \"Initial GCS Score: 5-12\"\n",
    "mrs_feature_names_dict['gcs_initial2'] = \"Initial GCS Score: 3-4\"\n",
    "mrs_feature_names_dict['ivh'] = \"IVH\"\n",
    "mrs_feature_names_dict[ihe_variable_name] = \"IHE\"\n",
    "\n",
    "mrs_outcome_name_dict = {'binary_mrs_3m': \"Unfavorable mRS\"}\n",
    "\n",
    "#get the subsets for the mRS model\n",
    "mrs_included_df, mrs_excluded_df = subsets.get_included_excluded_df(mrs_df)\n",
    "mrs_included_df_gcs13_15 = mrs_included_df[mrs_included_df.gcs_initial0 == 1]\n",
    "mrs_included_df_gcs13_15.reset_index(inplace = True)\n",
    "mrs_included_cmo_df = subsets.get_cmo_df(mrs_df)\n",
    "mrs_included_cmo_gcs13_15_df = subsets.get_cmo_df(mrs_included_df_gcs13_15, verbose = True)\n",
    "mrs_fxai_subset_from_full = mrs_df[mrs_df.xa_inhib == 1]\n",
    "mrs_fxai_subset_from_full.reset_index(inplace = True)"
   ]
  },
  {
   "cell_type": "code",
   "execution_count": 38,
   "metadata": {},
   "outputs": [
    {
     "output_type": "execute_result",
     "data": {
      "text/plain": [
       "(['log_ich_volume',\n",
       "  'log_lkw_hct1',\n",
       "  'anticoag_home___1',\n",
       "  'xa_inhib',\n",
       "  'ich_spotsign',\n",
       "  'other_coag',\n",
       "  'soc___1'],\n",
       " ['log_ich_volume',\n",
       "  'log_lkw_hct1',\n",
       "  'anticoag_home___1',\n",
       "  'xa_inhib',\n",
       "  'ich_spotsign',\n",
       "  'other_coag',\n",
       "  'one_antiplatelet_use',\n",
       "  'two_antiplatelet_use',\n",
       "  'arrival_sbp'],\n",
       " ['log_age',\n",
       "  'log_ich_volume',\n",
       "  'gcs_initial1',\n",
       "  'gcs_initial2',\n",
       "  'ivh',\n",
       "  'ihe_propensity'],\n",
       " ['log_age',\n",
       "  'log_ich_volume',\n",
       "  'gcs_initial1',\n",
       "  'gcs_initial2',\n",
       "  'ivh',\n",
       "  'ihe_propensity'])"
      ]
     },
     "metadata": {},
     "execution_count": 38
    }
   ],
   "source": [
    "ihe_feature_names = list(ihe_feature_names_dict.keys())\n",
    "mrs_feature_names = list(mrs_feature_names_dict.keys())\n",
    "mrs_feature_names[-1] = \"ihe_propensity\" #change the last feature from binary to probability\n",
    "\n",
    "ihe_outcome_name = ihe_variable_name\n",
    "mrs_outcome_name = \"binary_mrs_3m\"\n",
    "\n",
    "original_ihe_features = ihe_feature_names.copy()\n",
    "original_ihe_features.remove(\"one_antiplatelet_use\")\n",
    "original_ihe_features.remove(\"two_antiplatelet_use\")\n",
    "original_ihe_features.remove(\"arrival_sbp\")\n",
    "\n",
    "original_mrs_features = mrs_feature_names.copy()\n",
    "original_mrs_features[1] = 'log_ich_volume'\n",
    "\n",
    "to_remove = ['soc___1', ]#'one_antiplatelet_use']\n",
    "for x in to_remove:\n",
    "    ihe_feature_names.remove(x)\n",
    "mrs_feature_names_dict[\"ihe_propensity\"] = 'IHE Probability Score'\n",
    "mrs_feature_names_dict[\"log_ich_volume\"] = \"Log-transformed initial ICH volume\"\n",
    "\n",
    "original_ihe_features, ihe_feature_names, mrs_feature_names, original_mrs_features"
   ]
  },
  {
   "cell_type": "markdown",
   "metadata": {},
   "source": [
    "## Model Generation\n",
    "#### Original Model"
   ]
  },
  {
   "cell_type": "code",
   "execution_count": 39,
   "metadata": {},
   "outputs": [],
   "source": [
    "# print(\"Running bootstrapping simulation for original model\")\n",
    "# original_model_bs = bootstrapped_simulation(\n",
    "#     bs_num_samples = 1000,\n",
    "#     training_ihe_dataset = ihe_df,\n",
    "#     training_mrs_dataset = mrs_df,\n",
    "#     simulation_based_cohorts = [mrs_df],\n",
    "#     simulation_based_cohort_names = ['Original Features'],\n",
    "#     ihe_feature_names = original_ihe_features,\n",
    "#     ihe_outcome_name = ihe_outcome_name,\n",
    "#     mrs_feature_names = original_mrs_features,\n",
    "#     mrs_outcome_name = mrs_outcome_name,\n",
    "#     random_state = 0,\n",
    "#     parallel = True,\n",
    "#     ihe_feature_dict = ihe_feature_names_dict,\n",
    "#     mrs_feature_dict = mrs_feature_names_dict\n",
    "# )\n",
    "\n",
    "# f = open(\"./stroke_pickles/original_model_bs.pkl\",\"wb\")\n",
    "# pickle.dump(original_model_bs, f)\n",
    "# print(\"Saved original_model_bs.pkl\")\n",
    "\n",
    "# f.close()\n",
    "\n",
    "# ihe_auroc_metrics, original_mean_fpr, original_mean_tpr = original_model_bs.ihe_model.get_CV_aurocc()\n",
    "# mrs_auroc_metrics, original_mean_fpr, original_mean_tpr = original_model_bs.mrs_model.get_CV_aurocc()"
   ]
  },
  {
   "cell_type": "code",
   "execution_count": 40,
   "metadata": {},
   "outputs": [],
   "source": [
    "# original_model_bs.get_metrics()\n",
    "# display(ihe_auroc_metrics)\n",
    "# display(mrs_auroc_metrics)"
   ]
  },
  {
   "cell_type": "markdown",
   "metadata": {},
   "source": [
    "#### With Antiplatelet Data"
   ]
  },
  {
   "cell_type": "code",
   "execution_count": 41,
   "metadata": {},
   "outputs": [],
   "source": [
    "# print(\"Running bootstrapping simulation for new model w/ antiplatelet feature\")\n",
    "# new_feature_w_antiplatelet_bs = bootstrapped_simulation(\n",
    "#     bs_num_samples = 1000,\n",
    "#     training_ihe_dataset = ihe_df,\n",
    "#     training_mrs_dataset = mrs_df,\n",
    "#     simulation_based_cohorts = [mrs_df],\n",
    "#     simulation_based_cohort_names = ['New Features with Antiplatelet'],\n",
    "#     ihe_feature_names = ihe_feature_names,\n",
    "#     ihe_outcome_name = ihe_outcome_name,\n",
    "#     mrs_feature_names = mrs_feature_names,\n",
    "#     mrs_outcome_name = mrs_outcome_name,\n",
    "#     random_state = 0,\n",
    "#     parallel = True,\n",
    "#     ihe_feature_dict = ihe_feature_names_dict,\n",
    "#     mrs_feature_dict = mrs_feature_names_dict\n",
    "# )\n",
    "\n",
    "# f = open(\"./stroke_pickles/new_feature_w_antiplatelet_bs.pkl\",\"wb\")\n",
    "# pickle.dump(new_feature_w_antiplatelet_bs, f)\n",
    "# print(\"Saved new_feature_w_antiplatelet_bs.pkl\")\n",
    "\n",
    "# f.close()\n",
    "\n",
    "# ihe_auroc_metrics, original_mean_fpr, original_mean_tpr = new_feature_w_antiplatelet_bs.ihe_model.get_CV_aurocc()\n",
    "# mrs_auroc_metrics, original_mean_fpr, original_mean_tpr = new_feature_w_antiplatelet_bs.mrs_model.get_CV_aurocc()"
   ]
  },
  {
   "cell_type": "code",
   "execution_count": 42,
   "metadata": {},
   "outputs": [],
   "source": [
    "# new_feature_w_antiplatelet_bs.get_metrics()\n",
    "# display(ihe_auroc_metrics)\n",
    "# display(mrs_auroc_metrics)"
   ]
  },
  {
   "cell_type": "markdown",
   "metadata": {},
   "source": [
    "#### W/o antiplatelet data"
   ]
  },
  {
   "cell_type": "code",
   "execution_count": 43,
   "metadata": {},
   "outputs": [],
   "source": [
    "# print(\"Running bootstrapping simulation for new model w/o antiplatelet feature\")\n",
    "# to_remove = [\"one_antiplatelet_use\", \"two_antiplatelet_use\"]\n",
    "# for x in to_remove:\n",
    "#     ihe_feature_names.remove(x)\n",
    "    \n",
    "# new_feature_wo_antiplatelet_bs = bootstrapped_simulation(\n",
    "#     bs_num_samples = 1000,\n",
    "#     training_ihe_dataset = ihe_df,\n",
    "#     training_mrs_dataset = mrs_df,\n",
    "#     simulation_based_cohorts = [mrs_df],\n",
    "#     simulation_based_cohort_names = ['New Features wo Antiplatelet'],\n",
    "#     ihe_feature_names = ihe_feature_names,\n",
    "#     ihe_outcome_name = ihe_outcome_name,\n",
    "#     mrs_feature_names = mrs_feature_names,\n",
    "#     mrs_outcome_name = mrs_outcome_name,\n",
    "#     random_state = 0,\n",
    "#     parallel = True,\n",
    "#     ihe_feature_dict = ihe_feature_names_dict,\n",
    "#     mrs_feature_dict = mrs_feature_names_dict\n",
    "# )\n",
    "\n",
    "# f = open(\"./stroke_pickles/new_feature_wo_antiplatelet_bs.pkl\",\"wb\")\n",
    "# pickle.dump(new_feature_wo_antiplatelet_bs, f)\n",
    "# print(\"Saved new_feature_wo_antiplatelet_bs.pkl\")\n",
    "\n",
    "# f.close()\n",
    "\n",
    "# ihe_auroc_metrics, original_mean_fpr, original_mean_tpr = new_feature_wo_antiplatelet_bs.ihe_model.get_CV_aurocc()\n",
    "# mrs_auroc_metrics, original_mean_fpr, original_mean_tpr = new_feature_wo_antiplatelet_bs.mrs_model.get_CV_aurocc()"
   ]
  },
  {
   "cell_type": "code",
   "execution_count": 44,
   "metadata": {},
   "outputs": [],
   "source": [
    "# new_feature_wo_antiplatelet_bs.get_metrics()\n",
    "# display(ihe_auroc_metrics)\n",
    "# display(mrs_auroc_metrics)"
   ]
  },
  {
   "cell_type": "markdown",
   "metadata": {},
   "source": [
    "#### Running with All Secondary Analysis"
   ]
  },
  {
   "cell_type": "code",
   "execution_count": 49,
   "metadata": {},
   "outputs": [
    {
     "output_type": "execute_result",
     "data": {
      "text/plain": [
       "'ihe_26'"
      ]
     },
     "metadata": {},
     "execution_count": 49
    }
   ],
   "source": [
    "ihe_outcome_name"
   ]
  },
  {
   "cell_type": "code",
   "execution_count": 46,
   "metadata": {
    "tags": []
   },
   "outputs": [
    {
     "output_type": "stream",
     "name": "stdout",
     "text": [
      "Running bootstrapping simulations for full cohort with antiplatelet features\n",
      "2021-07-02 03:26:52,265:INFO:ProWSyn: Running sampling via ('ProWSyn', \"{'proportion': 1, 'n_neighbors': 5, 'L': 5, 'theta': 1.0, 'n_jobs': 1, 'random_state': 123}\")\n",
      "C:\\Users\\danny\\AppData\\Local\\Packages\\PythonSoftwareFoundation.Python.3.9_qbz5n2kfra8p0\\LocalCache\\local-packages\\Python39\\site-packages\\sklearn\\linear_model\\_logistic.py:763: ConvergenceWarning: lbfgs failed to converge (status=1):\n",
      "STOP: TOTAL NO. of ITERATIONS REACHED LIMIT.\n",
      "\n",
      "Increase the number of iterations (max_iter) or scale the data as shown in:\n",
      "    https://scikit-learn.org/stable/modules/preprocessing.html\n",
      "Please also refer to the documentation for alternative solver options:\n",
      "    https://scikit-learn.org/stable/modules/linear_model.html#logistic-regression\n",
      "  n_iter_i = _check_optimize_result(\n",
      "2021-07-02 04:05:37,198:INFO:ProWSyn: Running sampling via ('ProWSyn', \"{'proportion': 1, 'n_neighbors': 5, 'L': 5, 'theta': 1.0, 'n_jobs': 1, 'random_state': 970}\")\n",
      "Saved new_features_all_subsets_bs.pkl\n",
      "2021-07-02 04:05:37,428:INFO:ProWSyn: Running sampling via ('ProWSyn', \"{'proportion': 1, 'n_neighbors': 5, 'L': 5, 'theta': 1.0, 'n_jobs': 1, 'random_state': 154}\")\n",
      "C:\\Users\\danny\\AppData\\Local\\Packages\\PythonSoftwareFoundation.Python.3.9_qbz5n2kfra8p0\\LocalCache\\local-packages\\Python39\\site-packages\\sklearn\\linear_model\\_logistic.py:763: ConvergenceWarning: lbfgs failed to converge (status=1):\n",
      "STOP: TOTAL NO. of ITERATIONS REACHED LIMIT.\n",
      "\n",
      "Increase the number of iterations (max_iter) or scale the data as shown in:\n",
      "    https://scikit-learn.org/stable/modules/preprocessing.html\n",
      "Please also refer to the documentation for alternative solver options:\n",
      "    https://scikit-learn.org/stable/modules/linear_model.html#logistic-regression\n",
      "  n_iter_i = _check_optimize_result(\n",
      "2021-07-02 04:05:37,589:INFO:ProWSyn: Running sampling via ('ProWSyn', \"{'proportion': 1, 'n_neighbors': 5, 'L': 5, 'theta': 1.0, 'n_jobs': 1, 'random_state': 404}\")\n",
      "C:\\Users\\danny\\AppData\\Local\\Packages\\PythonSoftwareFoundation.Python.3.9_qbz5n2kfra8p0\\LocalCache\\local-packages\\Python39\\site-packages\\sklearn\\linear_model\\_logistic.py:763: ConvergenceWarning: lbfgs failed to converge (status=1):\n",
      "STOP: TOTAL NO. of ITERATIONS REACHED LIMIT.\n",
      "\n",
      "Increase the number of iterations (max_iter) or scale the data as shown in:\n",
      "    https://scikit-learn.org/stable/modules/preprocessing.html\n",
      "Please also refer to the documentation for alternative solver options:\n",
      "    https://scikit-learn.org/stable/modules/linear_model.html#logistic-regression\n",
      "  n_iter_i = _check_optimize_result(\n",
      "2021-07-02 04:05:37,720:INFO:ProWSyn: Running sampling via ('ProWSyn', \"{'proportion': 1, 'n_neighbors': 5, 'L': 5, 'theta': 1.0, 'n_jobs': 1, 'random_state': 666}\")\n",
      "C:\\Users\\danny\\AppData\\Local\\Packages\\PythonSoftwareFoundation.Python.3.9_qbz5n2kfra8p0\\LocalCache\\local-packages\\Python39\\site-packages\\sklearn\\linear_model\\_logistic.py:763: ConvergenceWarning: lbfgs failed to converge (status=1):\n",
      "STOP: TOTAL NO. of ITERATIONS REACHED LIMIT.\n",
      "\n",
      "Increase the number of iterations (max_iter) or scale the data as shown in:\n",
      "    https://scikit-learn.org/stable/modules/preprocessing.html\n",
      "Please also refer to the documentation for alternative solver options:\n",
      "    https://scikit-learn.org/stable/modules/linear_model.html#logistic-regression\n",
      "  n_iter_i = _check_optimize_result(\n",
      "2021-07-02 04:05:37,868:INFO:ProWSyn: Running sampling via ('ProWSyn', \"{'proportion': 1, 'n_neighbors': 5, 'L': 5, 'theta': 1.0, 'n_jobs': 1, 'random_state': 49}\")\n",
      "2021-07-02 04:05:38,009:INFO:ProWSyn: Running sampling via ('ProWSyn', \"{'proportion': 1, 'n_neighbors': 5, 'L': 5, 'theta': 1.0, 'n_jobs': 1, 'random_state': 74}\")\n",
      "C:\\Users\\danny\\AppData\\Local\\Packages\\PythonSoftwareFoundation.Python.3.9_qbz5n2kfra8p0\\LocalCache\\local-packages\\Python39\\site-packages\\sklearn\\linear_model\\_logistic.py:763: ConvergenceWarning: lbfgs failed to converge (status=1):\n",
      "STOP: TOTAL NO. of ITERATIONS REACHED LIMIT.\n",
      "\n",
      "Increase the number of iterations (max_iter) or scale the data as shown in:\n",
      "    https://scikit-learn.org/stable/modules/preprocessing.html\n",
      "Please also refer to the documentation for alternative solver options:\n",
      "    https://scikit-learn.org/stable/modules/linear_model.html#logistic-regression\n",
      "  n_iter_i = _check_optimize_result(\n",
      "2021-07-02 04:05:38,165:INFO:ProWSyn: Running sampling via ('ProWSyn', \"{'proportion': 1, 'n_neighbors': 5, 'L': 5, 'theta': 1.0, 'n_jobs': 1, 'random_state': 840}\")\n",
      "C:\\Users\\danny\\AppData\\Local\\Packages\\PythonSoftwareFoundation.Python.3.9_qbz5n2kfra8p0\\LocalCache\\local-packages\\Python39\\site-packages\\sklearn\\linear_model\\_logistic.py:763: ConvergenceWarning: lbfgs failed to converge (status=1):\n",
      "STOP: TOTAL NO. of ITERATIONS REACHED LIMIT.\n",
      "\n",
      "Increase the number of iterations (max_iter) or scale the data as shown in:\n",
      "    https://scikit-learn.org/stable/modules/preprocessing.html\n",
      "Please also refer to the documentation for alternative solver options:\n",
      "    https://scikit-learn.org/stable/modules/linear_model.html#logistic-regression\n",
      "  n_iter_i = _check_optimize_result(\n",
      "2021-07-02 04:05:38,280:INFO:ProWSyn: Running sampling via ('ProWSyn', \"{'proportion': 1, 'n_neighbors': 5, 'L': 5, 'theta': 1.0, 'n_jobs': 1, 'random_state': 548}\")\n",
      "2021-07-02 04:05:38,412:INFO:ProWSyn: Running sampling via ('ProWSyn', \"{'proportion': 1, 'n_neighbors': 5, 'L': 5, 'theta': 1.0, 'n_jobs': 1, 'random_state': 96}\")\n",
      "C:\\Users\\danny\\AppData\\Local\\Packages\\PythonSoftwareFoundation.Python.3.9_qbz5n2kfra8p0\\LocalCache\\local-packages\\Python39\\site-packages\\sklearn\\linear_model\\_logistic.py:763: ConvergenceWarning: lbfgs failed to converge (status=1):\n",
      "STOP: TOTAL NO. of ITERATIONS REACHED LIMIT.\n",
      "\n",
      "Increase the number of iterations (max_iter) or scale the data as shown in:\n",
      "    https://scikit-learn.org/stable/modules/preprocessing.html\n",
      "Please also refer to the documentation for alternative solver options:\n",
      "    https://scikit-learn.org/stable/modules/linear_model.html#logistic-regression\n",
      "  n_iter_i = _check_optimize_result(\n",
      "2021-07-02 04:05:38,545:INFO:ProWSyn: Running sampling via ('ProWSyn', \"{'proportion': 1, 'n_neighbors': 5, 'L': 5, 'theta': 1.0, 'n_jobs': 1, 'random_state': 374}\")\n",
      "C:\\Users\\danny\\AppData\\Local\\Packages\\PythonSoftwareFoundation.Python.3.9_qbz5n2kfra8p0\\LocalCache\\local-packages\\Python39\\site-packages\\sklearn\\linear_model\\_logistic.py:763: ConvergenceWarning: lbfgs failed to converge (status=1):\n",
      "STOP: TOTAL NO. of ITERATIONS REACHED LIMIT.\n",
      "\n",
      "Increase the number of iterations (max_iter) or scale the data as shown in:\n",
      "    https://scikit-learn.org/stable/modules/preprocessing.html\n",
      "Please also refer to the documentation for alternative solver options:\n",
      "    https://scikit-learn.org/stable/modules/linear_model.html#logistic-regression\n",
      "  n_iter_i = _check_optimize_result(\n"
     ]
    }
   ],
   "source": [
    "print(\"Running bootstrapping simulations for full cohort with antiplatelet features\")\n",
    "new_features_all_subsets_bs = bootstrapped_simulation(\n",
    "    bs_num_samples = 1000,\n",
    "    training_ihe_dataset = ihe_df,\n",
    "    training_mrs_dataset = mrs_df,\n",
    "    simulation_based_cohorts = [mrs_df, mrs_included_df, mrs_excluded_df,  mrs_included_cmo_gcs13_15_df, mrs_fxai_subset_from_full],\n",
    "    simulation_based_cohort_names = ['Full Cohort', 'Included Cohort', 'Excluded Cohort', 'Included Cohort w GCS 13-15; and CMO, Discharge to Hospice, mrs_discharge=6 pt removed', 'Full Cohort on FXai'],\n",
    "    ihe_feature_names = ihe_feature_names,\n",
    "    ihe_outcome_name = ihe_outcome_name,\n",
    "    mrs_feature_names = mrs_feature_names,\n",
    "    mrs_outcome_name = mrs_outcome_name,\n",
    "    random_state = 6,\n",
    "    parallel = True,\n",
    "    ihe_feature_dict = ihe_feature_names_dict,\n",
    "    mrs_feature_dict = mrs_feature_names_dict\n",
    ")\n",
    "\n",
    "f = open(\"./stroke_pickles/26_data_all_subsets_bs.pkl\",\"wb\")\n",
    "pickle.dump(new_features_all_subsets_bs, f)\n",
    "print(\"Saved new_features_all_subsets_bs.pkl\")\n",
    "f.close()\n",
    "\n",
    "ihe_auroc_metrics1, original_mean_fpr, original_mean_tpr = new_features_all_subsets_bs.ihe_model.get_CV_aurocc()\n",
    "mrs_auroc_metrics1, original_mean_fpr, original_mean_tpr = new_features_all_subsets_bs.mrs_model.get_CV_aurocc()"
   ]
  },
  {
   "cell_type": "code",
   "execution_count": 47,
   "metadata": {
    "scrolled": true
   },
   "outputs": [
    {
     "output_type": "stream",
     "name": "stdout",
     "text": [
      "IHE Model\n"
     ]
    },
    {
     "output_type": "display_data",
     "data": {
      "text/plain": "                                             Feature  LogReg Coef        OR  \\\n0                 Log-transformed initial ICH volume     0.211716  1.235797   \n1  Log-transformed hours from LKW to hospital arr...    -0.547133  0.578607   \n2                                       Warfarin Use     1.791945  6.001116   \n3                                  FXa inhibitor use     0.426938  1.532557   \n4                                      CTA spot sign     2.065373  7.888242   \n5                                 Other Coagulopathy     0.858049  2.358554   \n6                                Single Antiplatelet    -0.292462  0.746424   \n7                                Double Antiplatelet     1.605165  4.978682   \n8                             Systolic BP on Arrival     0.003698  1.003705   \n9                                               Cons    -0.723178  0.485208   \n\n   Lower 95% CI OR  Upper 95% CI OR  \n0         1.085967         1.494246  \n1         0.451160         0.718775  \n2         2.523469        13.569304  \n3         0.306991         3.782037  \n4         2.461715        23.684850  \n5         0.573708         8.798096  \n6         0.315383         1.459625  \n7         0.832280        11.979691  \n8         0.993476         1.014761  \n9         0.065367         2.267140  ",
      "text/html": "<div>\n<style scoped>\n    .dataframe tbody tr th:only-of-type {\n        vertical-align: middle;\n    }\n\n    .dataframe tbody tr th {\n        vertical-align: top;\n    }\n\n    .dataframe thead th {\n        text-align: right;\n    }\n</style>\n<table border=\"1\" class=\"dataframe\">\n  <thead>\n    <tr style=\"text-align: right;\">\n      <th></th>\n      <th>Feature</th>\n      <th>LogReg Coef</th>\n      <th>OR</th>\n      <th>Lower 95% CI OR</th>\n      <th>Upper 95% CI OR</th>\n    </tr>\n  </thead>\n  <tbody>\n    <tr>\n      <th>0</th>\n      <td>Log-transformed initial ICH volume</td>\n      <td>0.211716</td>\n      <td>1.235797</td>\n      <td>1.085967</td>\n      <td>1.494246</td>\n    </tr>\n    <tr>\n      <th>1</th>\n      <td>Log-transformed hours from LKW to hospital arr...</td>\n      <td>-0.547133</td>\n      <td>0.578607</td>\n      <td>0.451160</td>\n      <td>0.718775</td>\n    </tr>\n    <tr>\n      <th>2</th>\n      <td>Warfarin Use</td>\n      <td>1.791945</td>\n      <td>6.001116</td>\n      <td>2.523469</td>\n      <td>13.569304</td>\n    </tr>\n    <tr>\n      <th>3</th>\n      <td>FXa inhibitor use</td>\n      <td>0.426938</td>\n      <td>1.532557</td>\n      <td>0.306991</td>\n      <td>3.782037</td>\n    </tr>\n    <tr>\n      <th>4</th>\n      <td>CTA spot sign</td>\n      <td>2.065373</td>\n      <td>7.888242</td>\n      <td>2.461715</td>\n      <td>23.684850</td>\n    </tr>\n    <tr>\n      <th>5</th>\n      <td>Other Coagulopathy</td>\n      <td>0.858049</td>\n      <td>2.358554</td>\n      <td>0.573708</td>\n      <td>8.798096</td>\n    </tr>\n    <tr>\n      <th>6</th>\n      <td>Single Antiplatelet</td>\n      <td>-0.292462</td>\n      <td>0.746424</td>\n      <td>0.315383</td>\n      <td>1.459625</td>\n    </tr>\n    <tr>\n      <th>7</th>\n      <td>Double Antiplatelet</td>\n      <td>1.605165</td>\n      <td>4.978682</td>\n      <td>0.832280</td>\n      <td>11.979691</td>\n    </tr>\n    <tr>\n      <th>8</th>\n      <td>Systolic BP on Arrival</td>\n      <td>0.003698</td>\n      <td>1.003705</td>\n      <td>0.993476</td>\n      <td>1.014761</td>\n    </tr>\n    <tr>\n      <th>9</th>\n      <td>Cons</td>\n      <td>-0.723178</td>\n      <td>0.485208</td>\n      <td>0.065367</td>\n      <td>2.267140</td>\n    </tr>\n  </tbody>\n</table>\n</div>"
     },
     "metadata": {}
    },
    {
     "output_type": "stream",
     "name": "stdout",
     "text": [
      "mRS Model\n"
     ]
    },
    {
     "output_type": "display_data",
     "data": {
      "text/plain": "                              Feature  LogReg Coef         OR  \\\n0                 Log-transformed Age     2.106101   8.216148   \n1  Log-transformed initial ICH volume    -0.006532   0.993489   \n2             Initial GCS Score: 5-12     1.816227   6.148616   \n3              Initial GCS Score: 3-4     2.308724  10.061582   \n4                                 IVH     0.450485   1.569074   \n5               IHE Probability Score     1.728135   5.630145   \n6                                Cons   -10.057562   0.000043   \n\n   Lower 95% CI OR  Upper 95% CI OR  \n0         4.356033        17.364282  \n1         0.896993         1.118606  \n2         3.783646        10.480313  \n3         5.653699        16.607470  \n4         1.099868         2.397887  \n5         2.430195        11.354105  \n6         0.000002         0.000728  ",
      "text/html": "<div>\n<style scoped>\n    .dataframe tbody tr th:only-of-type {\n        vertical-align: middle;\n    }\n\n    .dataframe tbody tr th {\n        vertical-align: top;\n    }\n\n    .dataframe thead th {\n        text-align: right;\n    }\n</style>\n<table border=\"1\" class=\"dataframe\">\n  <thead>\n    <tr style=\"text-align: right;\">\n      <th></th>\n      <th>Feature</th>\n      <th>LogReg Coef</th>\n      <th>OR</th>\n      <th>Lower 95% CI OR</th>\n      <th>Upper 95% CI OR</th>\n    </tr>\n  </thead>\n  <tbody>\n    <tr>\n      <th>0</th>\n      <td>Log-transformed Age</td>\n      <td>2.106101</td>\n      <td>8.216148</td>\n      <td>4.356033</td>\n      <td>17.364282</td>\n    </tr>\n    <tr>\n      <th>1</th>\n      <td>Log-transformed initial ICH volume</td>\n      <td>-0.006532</td>\n      <td>0.993489</td>\n      <td>0.896993</td>\n      <td>1.118606</td>\n    </tr>\n    <tr>\n      <th>2</th>\n      <td>Initial GCS Score: 5-12</td>\n      <td>1.816227</td>\n      <td>6.148616</td>\n      <td>3.783646</td>\n      <td>10.480313</td>\n    </tr>\n    <tr>\n      <th>3</th>\n      <td>Initial GCS Score: 3-4</td>\n      <td>2.308724</td>\n      <td>10.061582</td>\n      <td>5.653699</td>\n      <td>16.607470</td>\n    </tr>\n    <tr>\n      <th>4</th>\n      <td>IVH</td>\n      <td>0.450485</td>\n      <td>1.569074</td>\n      <td>1.099868</td>\n      <td>2.397887</td>\n    </tr>\n    <tr>\n      <th>5</th>\n      <td>IHE Probability Score</td>\n      <td>1.728135</td>\n      <td>5.630145</td>\n      <td>2.430195</td>\n      <td>11.354105</td>\n    </tr>\n    <tr>\n      <th>6</th>\n      <td>Cons</td>\n      <td>-10.057562</td>\n      <td>0.000043</td>\n      <td>0.000002</td>\n      <td>0.000728</td>\n    </tr>\n  </tbody>\n</table>\n</div>"
     },
     "metadata": {}
    },
    {
     "output_type": "stream",
     "name": "stdout",
     "text": [
      "Full Cohort (n= 560 )\n\tmean mRS prob w/o additional treatment effect: 54.3% (95% CI: 46.1%-59.8%)\n\tARR at 30% IHE probability reduction: 4.4% (95% CI: 1.4%-6.4%)\n\tARR at 50% IHE probability reduction: 6.7% (95% CI: 2.2%-9.8%)\n\tNNT at 30%: 23\n\tNNT at 50%: 15\n\tCum cost at 30%: $569250\n\tCum cost at 50%: $371250\nIncluded Cohort (n= 324 )\n\tmean mRS prob w/o additional treatment effect: 54.5% (95% CI: 44.7%-60.8%)\n\tARR at 30% IHE probability reduction: 5.7% (95% CI: 1.8%-8.0%)\n\tARR at 50% IHE probability reduction: 8.6% (95% CI: 2.7%-12.2%)\n\tNNT at 30%: 18\n\tNNT at 50%: 12\n\tCum cost at 30%: $445500\n\tCum cost at 50%: $297000\nExcluded Cohort (n= 236 )\n\tmean mRS prob w/o additional treatment effect: 53.9% (95% CI: 47.5%-59.1%)\n\tARR at 30% IHE probability reduction: 2.7% (95% CI: 0.9%-4.3%)\n\tARR at 50% IHE probability reduction: 4.1% (95% CI: 1.3%-6.6%)\n\tNNT at 30%: 38\n\tNNT at 50%: 25\n\tCum cost at 30%: $940500\n\tCum cost at 50%: $618750\nIncluded Cohort w GCS 13-15; and CMO, Discharge to Hospice, mrs_discharge=6 pt removed (n= 209 )\n\tmean mRS prob w/o additional treatment effect: 43.9% (95% CI: 33.1%-50.8%)\n\tARR at 30% IHE probability reduction: 6.1% (95% CI: 1.9%-8.7%)\n\tARR at 50% IHE probability reduction: 9.2% (95% CI: 2.8%-13.1%)\n\tNNT at 30%: 17\n\tNNT at 50%: 11\n\tCum cost at 30%: $420750\n\tCum cost at 50%: $272250\nFull Cohort on FXai (n= 52 )\n\tmean mRS prob w/o additional treatment effect: 56.3% (95% CI: 48.2%-61.9%)\n\tARR at 30% IHE probability reduction: 4.0% (95% CI: 1.3%-5.9%)\n\tARR at 50% IHE probability reduction: 6.1% (95% CI: 1.9%-9.0%)\n\tNNT at 30%: 26\n\tNNT at 50%: 17\n\tCum cost at 30%: $643500\n\tCum cost at 50%: $420750\n"
     ]
    }
   ],
   "source": [
    "new_features_all_subsets_bs.get_metrics()"
   ]
  },
  {
   "cell_type": "code",
   "execution_count": 48,
   "metadata": {},
   "outputs": [
    {
     "output_type": "display_data",
     "data": {
      "text/plain": "              Metric Name    Values\n0      Repeated CV AUROCC  0.766847\n1  Repeated CV AUROCC STD  0.097670",
      "text/html": "<div>\n<style scoped>\n    .dataframe tbody tr th:only-of-type {\n        vertical-align: middle;\n    }\n\n    .dataframe tbody tr th {\n        vertical-align: top;\n    }\n\n    .dataframe thead th {\n        text-align: right;\n    }\n</style>\n<table border=\"1\" class=\"dataframe\">\n  <thead>\n    <tr style=\"text-align: right;\">\n      <th></th>\n      <th>Metric Name</th>\n      <th>Values</th>\n    </tr>\n  </thead>\n  <tbody>\n    <tr>\n      <th>0</th>\n      <td>Repeated CV AUROCC</td>\n      <td>0.766847</td>\n    </tr>\n    <tr>\n      <th>1</th>\n      <td>Repeated CV AUROCC STD</td>\n      <td>0.097670</td>\n    </tr>\n  </tbody>\n</table>\n</div>"
     },
     "metadata": {}
    },
    {
     "output_type": "display_data",
     "data": {
      "text/plain": "              Metric Name    Values\n0      Repeated CV AUROCC  0.805587\n1  Repeated CV AUROCC STD  0.040497",
      "text/html": "<div>\n<style scoped>\n    .dataframe tbody tr th:only-of-type {\n        vertical-align: middle;\n    }\n\n    .dataframe tbody tr th {\n        vertical-align: top;\n    }\n\n    .dataframe thead th {\n        text-align: right;\n    }\n</style>\n<table border=\"1\" class=\"dataframe\">\n  <thead>\n    <tr style=\"text-align: right;\">\n      <th></th>\n      <th>Metric Name</th>\n      <th>Values</th>\n    </tr>\n  </thead>\n  <tbody>\n    <tr>\n      <th>0</th>\n      <td>Repeated CV AUROCC</td>\n      <td>0.805587</td>\n    </tr>\n    <tr>\n      <th>1</th>\n      <td>Repeated CV AUROCC STD</td>\n      <td>0.040497</td>\n    </tr>\n  </tbody>\n</table>\n</div>"
     },
     "metadata": {}
    }
   ],
   "source": [
    "display(ihe_auroc_metrics1)\n",
    "display(mrs_auroc_metrics1)"
   ]
  }
 ],
 "metadata": {
  "kernelspec": {
   "name": "python3",
   "display_name": "Python 3.9.5 64-bit (windows store)"
  },
  "language_info": {
   "codemirror_mode": {
    "name": "ipython",
    "version": 3
   },
   "file_extension": ".py",
   "mimetype": "text/x-python",
   "name": "python",
   "nbconvert_exporter": "python",
   "pygments_lexer": "ipython3",
   "version": "3.9.5"
  },
  "interpreter": {
   "hash": "12495dda3933ae8b8e0c3c7ecc6a6e55023f0ed2c2b9c3ebcdd227d4de01f6a0"
  }
 },
 "nbformat": 4,
 "nbformat_minor": 4
}