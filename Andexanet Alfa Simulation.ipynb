{
 "cells": [
  {
   "cell_type": "code",
   "execution_count": 1,
   "metadata": {},
   "outputs": [],
   "source": [
    "%load_ext autoreload\n",
    "%autoreload 2\n",
    "from predictive_models import IHE_Model, Poor_Outcome_Model\n",
    "from bootstrapping_ci import *\n",
    "import pandas as pd\n",
    "from subsets import *\n",
    "from tqdm.notebook import tqdm\n",
    "import json\n",
    "import pickle\n",
    "from generate_figures import *"
   ]
  },
  {
   "cell_type": "markdown",
   "metadata": {},
   "source": [
    "# Andexanet Alfa Simulation Study\n",
    "Andexanet alfa (Andexxa) is a biological decoy that has been approved for the acute reversal of FXa inhibitors in FXa inhibitor associated intracerebral hemorrhage (ICH) following the results of the ANNEXA-4 study (1). However, with the study being single-arm, the impact of its use in FXa inhibitor-associated ICH is unknown. Here, we present a simulation study where the effects of the drug can be estimated on own institutional data.\n",
    "\n",
    "\n",
    "<b>References</b>\n",
    "1. Connolly SJ, Crowther M, Eikelboom JW, et al. Full Study Report of Andexanet Alfa for Bleeding Associated with Factor Xa Inhibitors. New England Journal of Medicine. 2019;380(14):1326-1335. doi:10.1056/NEJMoa1814051\n",
    "\n",
    "### Load Data and feature dictionary"
   ]
  },
  {
   "cell_type": "code",
   "execution_count": 2,
   "metadata": {},
   "outputs": [],
   "source": [
    "feature_dictionary = json.load(open(\"variable_names.json\", mode=\"r\"))\n",
    "dataset = pd.read_csv(\"./Datasets/synthetic_data.csv\")"
   ]
  },
  {
   "cell_type": "markdown",
   "metadata": {},
   "source": [
    "### Generate subsets of the data\n",
    "ANNEXA-4-Comparable Cohort\n",
    "* Emulates the inclusion criteria of the ANNEXA-4 study. Removes patients with an initial ICH volume larger than 60cc, initial GCS 3-4, time between last known well and first head CT greater than 18 hours, and WLST on admission\n",
    "\n",
    "ANNEXA-4-Ineligible Cohort\n",
    "* All patients who were not eligible for the ANNEXA-4 study\n",
    "\n",
    "Higher Likelihood of Favorable Outcome in the ANNEXA-4 Cohort\n",
    "* patients with an initial GCS 13-15\n",
    "* patients who survived hospitalization without WLST status\n",
    "\n",
    "Real-World FXa inhibitor use\n",
    "* patients who were using FXa inhibitors in real life\n",
    "\n",
    "ANNEXA-4-Ineligible because of high ICH volume and low GCS\n",
    "* patients who had initial ICH volumes larger than 60cc and GCS scores between 3-4"
   ]
  },
  {
   "cell_type": "code",
   "execution_count": 3,
   "metadata": {
    "scrolled": true
   },
   "outputs": [
    {
     "name": "stdout",
     "output_type": "stream",
     "text": [
      "Generating the ANNEXA-4-comparable Cohort...\n",
      "\tInitial ICH Volume >60cc: 51 removed\n",
      "\tInitial GCS 3-4: 30 removed\n",
      "\tTime between LKW and first head CT >18 hrs: 196 removed\n",
      "\tCMO/WLST status at admission: 21 removed\n",
      "\tLength before Exclusion: 700\n",
      "\tLength after Exclusion: 402\n",
      "\n",
      "Getting patients with a higher likelihood of a favorable functional outcome\n",
      "among the ANNEXA-4 comparable cohort...\n",
      "\tCMO/WLST status at any time in hospital stay: 97 removed\n",
      "\tDischarged to Hospice: 36 removed\n",
      "\tDead at Discharge (mRS = 6): 0 removed\n",
      "\tInitial GCS Score not 13-15: 81 removed\n",
      "\n"
     ]
    }
   ],
   "source": [
    "subsets = [\n",
    "    dataset,\n",
    "    get_ANNEXA4_comparable_cohort(dataset, feature_dictionary),\n",
    "    get_ANNEXA4_ineligible_cohort(dataset, feature_dictionary),\n",
    "    get_higher_likelihood_of_favorable_outcome_in_ANNEXA4_cohort(dataset, feature_dictionary),\n",
    "    get_FXai_df(dataset, feature_dictionary),\n",
    "    get_high_ICH_volume_low_GCS_cohort(dataset, feature_dictionary),\n",
    "    ]\n",
    "\n",
    "subset_names = [\n",
    "    \"Full Cohort\",\n",
    "    \"ANNEXA-4-Comparable\",\n",
    "    \"ANNEXA-4-Ineligible\",\n",
    "    \"Higher likelihood of Favorable Outcome\",\n",
    "    \"Real-World FXai use\",\n",
    "    \"ANNEXA-4-Ineligible because of high ICH volume and low GCS\"\n",
    "]"
   ]
  },
  {
   "cell_type": "markdown",
   "metadata": {},
   "source": [
    "### Simulate the Andexanet Effects\n",
    "First a predictive logistic regression model is created to determine the probability for developing inadequate hemostasis (IH), defined as an 35% increate in initial ICH volume. Then a predictive logistic regression model is created to determine the probability for unfavorable clinical outcome, defined as mRS 4-6 in 3 months following discharge. The IH model uses known clinical predictors for hematoma expansion, while the outcome model uses known predictors for clinical outcome as well as the probability for IH returned by the IH model.\n",
    "\n",
    "Before analysis, FXa inhibitor use is simulated in all patients. Afterwards, andexanet effects are simulated by reducing the returned IH probability score, and subsequent outcome due to andexanet are modeled by inputting the reduced probability into the outcome model. "
   ]
  },
  {
   "cell_type": "code",
   "execution_count": 4,
   "metadata": {},
   "outputs": [
    {
     "name": "stderr",
     "output_type": "stream",
     "text": [
      "2021-07-23 01:17:28,404:INFO:ProWSyn: Running sampling via ('ProWSyn', \"{'proportion': 1, 'n_neighbors': 5, 'L': 5, 'theta': 1.0, 'n_jobs': 1, 'random_state': 0}\")\n"
     ]
    },
    {
     "data": {
      "application/vnd.jupyter.widget-view+json": {
       "model_id": "273d14274ec949618567e0345a6b993c",
       "version_major": 2,
       "version_minor": 0
      },
      "text/plain": [
       "SUBMITTING | :   0%|          | 0/1000 [00:00<?, ?it/s]"
      ]
     },
     "metadata": {},
     "output_type": "display_data"
    },
    {
     "data": {
      "application/vnd.jupyter.widget-view+json": {
       "model_id": "e36366f7681a424b8a8c09a288f9c220",
       "version_major": 2,
       "version_minor": 0
      },
      "text/plain": [
       "PROCESSING | :   0%|          | 0/1000 [00:00<?, ?it/s]"
      ]
     },
     "metadata": {},
     "output_type": "display_data"
    },
    {
     "data": {
      "application/vnd.jupyter.widget-view+json": {
       "model_id": "f054ce57183c4f6cb21d12ea38b8f315",
       "version_major": 2,
       "version_minor": 0
      },
      "text/plain": [
       "COLLECTING | :   0%|          | 0/1000 [00:00<?, ?it/s]"
      ]
     },
     "metadata": {},
     "output_type": "display_data"
    }
   ],
   "source": [
    "simulation_run = simulate_andexanet_effects(\n",
    "                            n_bootstrapped_samples = 1000,\n",
    "                            training_ihe_dataset = dataset,\n",
    "                            training_outcome_dataset = dataset,\n",
    "                            simulation_based_cohorts = subsets,\n",
    "                            simulation_based_cohort_names = subset_names,\n",
    "                            feature_dictionary = feature_dictionary,\n",
    "                            generate_CI_by_using_bootstrapped_models_in_simulation = True,\n",
    "                            random_state = 0,\n",
    "                            parallel = True\n",
    "                            )"
   ]
  },
  {
   "cell_type": "code",
   "execution_count": 5,
   "metadata": {},
   "outputs": [],
   "source": [
    "#save the run as it can take a long time to generate each time\n",
    "pickle.dump(simulation_run, open(\"./saved_runs/simulation_results.pkl\", \"wb\"))"
   ]
  },
  {
   "cell_type": "code",
   "execution_count": 6,
   "metadata": {},
   "outputs": [],
   "source": [
    "#to load the run\n",
    "simulation_run = pickle.load(open(\"./saved_runs/simulation_results.pkl\", \"rb\"))"
   ]
  },
  {
   "cell_type": "markdown",
   "metadata": {},
   "source": [
    "### Get the results of the run"
   ]
  },
  {
   "cell_type": "code",
   "execution_count": 7,
   "metadata": {},
   "outputs": [
    {
     "name": "stdout",
     "output_type": "stream",
     "text": [
      "IHE Model\n"
     ]
    },
    {
     "data": {
      "text/html": [
       "<div>\n",
       "<style scoped>\n",
       "    .dataframe tbody tr th:only-of-type {\n",
       "        vertical-align: middle;\n",
       "    }\n",
       "\n",
       "    .dataframe tbody tr th {\n",
       "        vertical-align: top;\n",
       "    }\n",
       "\n",
       "    .dataframe thead th {\n",
       "        text-align: right;\n",
       "    }\n",
       "</style>\n",
       "<table border=\"1\" class=\"dataframe\">\n",
       "  <thead>\n",
       "    <tr style=\"text-align: right;\">\n",
       "      <th></th>\n",
       "      <th>Feature</th>\n",
       "      <th>Column</th>\n",
       "      <th>Coef</th>\n",
       "      <th>OR</th>\n",
       "      <th>Lower 95% CI OR</th>\n",
       "      <th>Upper 95% CI OR</th>\n",
       "    </tr>\n",
       "  </thead>\n",
       "  <tbody>\n",
       "    <tr>\n",
       "      <th>0</th>\n",
       "      <td>Log-transformed initial ICH volume</td>\n",
       "      <td>log_ich_volume</td>\n",
       "      <td>-0.042</td>\n",
       "      <td>0.959</td>\n",
       "      <td>0.818</td>\n",
       "      <td>1.123</td>\n",
       "    </tr>\n",
       "    <tr>\n",
       "      <th>1</th>\n",
       "      <td>Log-transformed hours from LKW to hospital arr...</td>\n",
       "      <td>log_lkw_hct1</td>\n",
       "      <td>-0.127</td>\n",
       "      <td>0.881</td>\n",
       "      <td>0.748</td>\n",
       "      <td>1.044</td>\n",
       "    </tr>\n",
       "    <tr>\n",
       "      <th>2</th>\n",
       "      <td>Warfarin Use</td>\n",
       "      <td>anticoag_home___1</td>\n",
       "      <td>-0.248</td>\n",
       "      <td>0.780</td>\n",
       "      <td>0.296</td>\n",
       "      <td>1.887</td>\n",
       "    </tr>\n",
       "    <tr>\n",
       "      <th>3</th>\n",
       "      <td>FXa inhibitor use</td>\n",
       "      <td>xa_inhib</td>\n",
       "      <td>0.141</td>\n",
       "      <td>1.152</td>\n",
       "      <td>0.333</td>\n",
       "      <td>2.408</td>\n",
       "    </tr>\n",
       "    <tr>\n",
       "      <th>4</th>\n",
       "      <td>CTA spot sign</td>\n",
       "      <td>ich_spotsign</td>\n",
       "      <td>-0.366</td>\n",
       "      <td>0.694</td>\n",
       "      <td>0.091</td>\n",
       "      <td>1.436</td>\n",
       "    </tr>\n",
       "    <tr>\n",
       "      <th>5</th>\n",
       "      <td>Other Coagulopathy</td>\n",
       "      <td>other_coag</td>\n",
       "      <td>-0.662</td>\n",
       "      <td>0.516</td>\n",
       "      <td>0.105</td>\n",
       "      <td>2.413</td>\n",
       "    </tr>\n",
       "    <tr>\n",
       "      <th>6</th>\n",
       "      <td>Single Antiplatelet</td>\n",
       "      <td>one_antiplatelet_use</td>\n",
       "      <td>0.206</td>\n",
       "      <td>1.229</td>\n",
       "      <td>0.566</td>\n",
       "      <td>1.975</td>\n",
       "    </tr>\n",
       "    <tr>\n",
       "      <th>7</th>\n",
       "      <td>Double Antiplatelet</td>\n",
       "      <td>two_antiplatelet_use</td>\n",
       "      <td>-1.110</td>\n",
       "      <td>0.330</td>\n",
       "      <td>0.089</td>\n",
       "      <td>1.028</td>\n",
       "    </tr>\n",
       "    <tr>\n",
       "      <th>8</th>\n",
       "      <td>Systolic BP on Arrival</td>\n",
       "      <td>arrival_sbp</td>\n",
       "      <td>0.001</td>\n",
       "      <td>1.001</td>\n",
       "      <td>0.995</td>\n",
       "      <td>1.006</td>\n",
       "    </tr>\n",
       "    <tr>\n",
       "      <th>9</th>\n",
       "      <td>Cons</td>\n",
       "      <td>Cons</td>\n",
       "      <td>0.209</td>\n",
       "      <td>1.233</td>\n",
       "      <td>0.491</td>\n",
       "      <td>3.480</td>\n",
       "    </tr>\n",
       "  </tbody>\n",
       "</table>\n",
       "</div>"
      ],
      "text/plain": [
       "                                             Feature                Column  \\\n",
       "0                 Log-transformed initial ICH volume        log_ich_volume   \n",
       "1  Log-transformed hours from LKW to hospital arr...          log_lkw_hct1   \n",
       "2                                       Warfarin Use     anticoag_home___1   \n",
       "3                                  FXa inhibitor use              xa_inhib   \n",
       "4                                      CTA spot sign          ich_spotsign   \n",
       "5                                 Other Coagulopathy            other_coag   \n",
       "6                                Single Antiplatelet  one_antiplatelet_use   \n",
       "7                                Double Antiplatelet  two_antiplatelet_use   \n",
       "8                             Systolic BP on Arrival           arrival_sbp   \n",
       "9                                               Cons                  Cons   \n",
       "\n",
       "    Coef     OR  Lower 95% CI OR  Upper 95% CI OR  \n",
       "0 -0.042  0.959            0.818            1.123  \n",
       "1 -0.127  0.881            0.748            1.044  \n",
       "2 -0.248  0.780            0.296            1.887  \n",
       "3  0.141  1.152            0.333            2.408  \n",
       "4 -0.366  0.694            0.091            1.436  \n",
       "5 -0.662  0.516            0.105            2.413  \n",
       "6  0.206  1.229            0.566            1.975  \n",
       "7 -1.110  0.330            0.089            1.028  \n",
       "8  0.001  1.001            0.995            1.006  \n",
       "9  0.209  1.233            0.491            3.480  "
      ]
     },
     "metadata": {},
     "output_type": "display_data"
    },
    {
     "name": "stdout",
     "output_type": "stream",
     "text": [
      "\n",
      "Outcome Model\n"
     ]
    },
    {
     "data": {
      "text/html": [
       "<div>\n",
       "<style scoped>\n",
       "    .dataframe tbody tr th:only-of-type {\n",
       "        vertical-align: middle;\n",
       "    }\n",
       "\n",
       "    .dataframe tbody tr th {\n",
       "        vertical-align: top;\n",
       "    }\n",
       "\n",
       "    .dataframe thead th {\n",
       "        text-align: right;\n",
       "    }\n",
       "</style>\n",
       "<table border=\"1\" class=\"dataframe\">\n",
       "  <thead>\n",
       "    <tr style=\"text-align: right;\">\n",
       "      <th></th>\n",
       "      <th>Feature</th>\n",
       "      <th>Column</th>\n",
       "      <th>Coef</th>\n",
       "      <th>OR</th>\n",
       "      <th>Lower 95% CI OR</th>\n",
       "      <th>Upper 95% CI OR</th>\n",
       "    </tr>\n",
       "  </thead>\n",
       "  <tbody>\n",
       "    <tr>\n",
       "      <th>0</th>\n",
       "      <td>Log-transformed Age</td>\n",
       "      <td>log_age</td>\n",
       "      <td>0.229</td>\n",
       "      <td>1.258</td>\n",
       "      <td>0.736</td>\n",
       "      <td>2.210</td>\n",
       "    </tr>\n",
       "    <tr>\n",
       "      <th>1</th>\n",
       "      <td>Log-transformed initial ICH volume</td>\n",
       "      <td>log_ich_volume</td>\n",
       "      <td>-0.003</td>\n",
       "      <td>0.997</td>\n",
       "      <td>0.925</td>\n",
       "      <td>1.066</td>\n",
       "    </tr>\n",
       "    <tr>\n",
       "      <th>2</th>\n",
       "      <td>Initial GCS Score: 5-12</td>\n",
       "      <td>gcs_initial1</td>\n",
       "      <td>-0.224</td>\n",
       "      <td>0.800</td>\n",
       "      <td>0.564</td>\n",
       "      <td>1.129</td>\n",
       "    </tr>\n",
       "    <tr>\n",
       "      <th>3</th>\n",
       "      <td>Initial GCS Score: 3-4</td>\n",
       "      <td>gcs_initial2</td>\n",
       "      <td>-0.210</td>\n",
       "      <td>0.811</td>\n",
       "      <td>0.448</td>\n",
       "      <td>1.528</td>\n",
       "    </tr>\n",
       "    <tr>\n",
       "      <th>4</th>\n",
       "      <td>IVH</td>\n",
       "      <td>ivh</td>\n",
       "      <td>-0.160</td>\n",
       "      <td>0.852</td>\n",
       "      <td>0.632</td>\n",
       "      <td>1.126</td>\n",
       "    </tr>\n",
       "    <tr>\n",
       "      <th>5</th>\n",
       "      <td>Probability for IHE</td>\n",
       "      <td>ihe_probability</td>\n",
       "      <td>0.639</td>\n",
       "      <td>1.894</td>\n",
       "      <td>0.474</td>\n",
       "      <td>4.701</td>\n",
       "    </tr>\n",
       "    <tr>\n",
       "      <th>6</th>\n",
       "      <td>Cons</td>\n",
       "      <td>Cons</td>\n",
       "      <td>-1.040</td>\n",
       "      <td>0.353</td>\n",
       "      <td>0.032</td>\n",
       "      <td>3.850</td>\n",
       "    </tr>\n",
       "  </tbody>\n",
       "</table>\n",
       "</div>"
      ],
      "text/plain": [
       "                              Feature           Column   Coef     OR  \\\n",
       "0                 Log-transformed Age          log_age  0.229  1.258   \n",
       "1  Log-transformed initial ICH volume   log_ich_volume -0.003  0.997   \n",
       "2             Initial GCS Score: 5-12     gcs_initial1 -0.224  0.800   \n",
       "3              Initial GCS Score: 3-4     gcs_initial2 -0.210  0.811   \n",
       "4                                 IVH              ivh -0.160  0.852   \n",
       "5                 Probability for IHE  ihe_probability  0.639  1.894   \n",
       "6                                Cons             Cons -1.040  0.353   \n",
       "\n",
       "   Lower 95% CI OR  Upper 95% CI OR  \n",
       "0            0.736            2.210  \n",
       "1            0.925            1.066  \n",
       "2            0.564            1.129  \n",
       "3            0.448            1.528  \n",
       "4            0.632            1.126  \n",
       "5            0.474            4.701  \n",
       "6            0.032            3.850  "
      ]
     },
     "metadata": {},
     "output_type": "display_data"
    },
    {
     "name": "stdout",
     "output_type": "stream",
     "text": [
      "Full Cohort (n= 700)\n",
      "\tMean Outcome Prob w/o additional treatment effect: 53.1% (95% CI: 48.1%-58.3%)\n",
      "\tARR at 33% IHE probability reduction: 2.8% (95% CI: -2.6%-7.1%)\n",
      "\tARR at 50% IHE probability reduction: 4.2% (95% CI: -3.9%-10.7%)\n",
      "\tNNT at 33%: 36\n",
      "\tNNT at 50%: 24\n",
      "\tCum cost at 33%: $891000\n",
      "\tCum cost at 50%: $594000\n",
      "ANNEXA-4-Comparable (n= 402)\n",
      "\tMean Outcome Prob w/o additional treatment effect: 53.7% (95% CI: 48.6%-59.3%)\n",
      "\tARR at 33% IHE probability reduction: 3.0% (95% CI: -2.7%-7.6%)\n",
      "\tARR at 50% IHE probability reduction: 4.5% (95% CI: -4.1%-11.5%)\n",
      "\tNNT at 33%: 34\n",
      "\tNNT at 50%: 23\n",
      "\tCum cost at 33%: $841500\n",
      "\tCum cost at 50%: $569250\n",
      "ANNEXA-4-Ineligible (n= 298)\n",
      "\tMean Outcome Prob w/o additional treatment effect: 52.4% (95% CI: 47.0%-57.9%)\n",
      "\tARR at 33% IHE probability reduction: 2.6% (95% CI: -2.4%-6.6%)\n",
      "\tARR at 50% IHE probability reduction: 3.9% (95% CI: -3.7%-10.0%)\n",
      "\tNNT at 33%: 39\n",
      "\tNNT at 50%: 26\n",
      "\tCum cost at 33%: $965250\n",
      "\tCum cost at 50%: $643500\n",
      "Higher likelihood of Favorable Outcome (n= 188)\n",
      "\tMean Outcome Prob w/o additional treatment effect: 55.3% (95% CI: 49.6%-61.3%)\n",
      "\tARR at 33% IHE probability reduction: 3.0% (95% CI: -2.7%-7.6%)\n",
      "\tARR at 50% IHE probability reduction: 4.5% (95% CI: -4.1%-11.5%)\n",
      "\tNNT at 33%: 34\n",
      "\tNNT at 50%: 23\n",
      "\tCum cost at 33%: $841500\n",
      "\tCum cost at 50%: $569250\n",
      "Real-World FXai use (n= 61)\n",
      "\tMean Outcome Prob w/o additional treatment effect: 53.2% (95% CI: 47.9%-58.4%)\n",
      "\tARR at 33% IHE probability reduction: 2.8% (95% CI: -2.5%-7.1%)\n",
      "\tARR at 50% IHE probability reduction: 4.3% (95% CI: -3.8%-10.8%)\n",
      "\tNNT at 33%: 36\n",
      "\tNNT at 50%: 24\n",
      "\tCum cost at 33%: $891000\n",
      "\tCum cost at 50%: $594000\n",
      "ANNEXA-4-Ineligible because of high ICH volume and low GCS (n= 81)\n",
      "\tMean Outcome Prob w/o additional treatment effect: 52.0% (95% CI: 44.5%-60.0%)\n",
      "\tARR at 33% IHE probability reduction: 2.8% (95% CI: -2.5%-6.9%)\n",
      "\tARR at 50% IHE probability reduction: 4.2% (95% CI: -3.7%-10.5%)\n",
      "\tNNT at 33%: 37\n",
      "\tNNT at 50%: 24\n",
      "\tCum cost at 33%: $915750\n",
      "\tCum cost at 50%: $594000\n"
     ]
    }
   ],
   "source": [
    "simulation_run.get_metrics()"
   ]
  },
  {
   "cell_type": "markdown",
   "metadata": {},
   "source": [
    "### Get plots of the results"
   ]
  },
  {
   "cell_type": "code",
   "execution_count": 8,
   "metadata": {},
   "outputs": [
    {
     "name": "stdout",
     "output_type": "stream",
     "text": [
      "Getting the ANNEXA-4-Comparable\n",
      "Getting the ANNEXA-4-Ineligible because of high ICH volume and low GCS\n"
     ]
    },
    {
     "data": {
      "image/png": "[encoded data removed]",
      "text/plain": [
       "<Figure size 234x180 with 1 Axes>"
      ]
     },
     "metadata": {
      "needs_background": "light"
     },
     "output_type": "display_data"
    }
   ],
   "source": [
    "#plot the ARRs\n",
    "annexa_4_subset_ix = 1\n",
    "exclusion_subset_ix = 5\n",
    "print(\"Getting the\", simulation_run.simulation_based_cohort_names[annexa_4_subset_ix])\n",
    "print(\"Getting the\", simulation_run.simulation_based_cohort_names[exclusion_subset_ix])\n",
    "\n",
    "arr_annexa = simulation_run.original_data_dict[\"ARR\"][annexa_4_subset_ix]\n",
    "arr_exclusion = simulation_run.original_data_dict[\"ARR\"][exclusion_subset_ix]\n",
    "arr_annexa_bs = simulation_run.bootstrapped_data_dict[\"ARR\"][annexa_4_subset_ix]\n",
    "arr_exclusion_bs = simulation_run.bootstrapped_data_dict[\"ARR\"][exclusion_subset_ix]\n",
    "\n",
    "get_ARR_plots([arr_annexa, arr_exclusion],\n",
    "              [arr_annexa_bs, arr_exclusion_bs], \n",
    "              [\"ANNEXA-4 Comparable Cohort\", \"ANNEXA-4 Ineligible Cohort\"],\n",
    "              (3.25, 2.5),\n",
    "              None,\n",
    "              None\n",
    "             )"
   ]
  },
  {
   "cell_type": "code",
   "execution_count": 9,
   "metadata": {},
   "outputs": [
    {
     "data": {
      "image/png": "[encoded data removed]",
      "text/plain": [
       "<Figure size 234x396 with 2 Axes>"
      ]
     },
     "metadata": {
      "needs_background": "light"
     },
     "output_type": "display_data"
    }
   ],
   "source": [
    "nnt_annexa = simulation_run.original_data_dict[\"NNT\"][annexa_4_subset_ix]\n",
    "nnt_exclusion = simulation_run.original_data_dict[\"NNT\"][exclusion_subset_ix]\n",
    "\n",
    "get_NNT_cost_plots(\n",
    "    [nnt_annexa, nnt_exclusion],\n",
    "    [\"ANNEXA-4 Comparable Cohort\", \"ANNEXA-4 Ineligible Cohort\"],\n",
    "    (3.25, 5.5),\n",
    "    None,\n",
    "    feature_dictionary,\n",
    "    None\n",
    ")"
   ]
  }
 ],
 "metadata": {
  "interpreter": {
   "hash": "36a947132ce8d3a4442ca9117972ece54ccda9e5f9dc0ec5efdb0cb1930b9421"
  },
  "kernelspec": {
   "display_name": "Python 3 (ipykernel)",
   "language": "python",
   "name": "python3"
  },
  "language_info": {
   "codemirror_mode": {
    "name": "ipython",
    "version": 3
   },
   "file_extension": ".py",
   "mimetype": "text/x-python",
   "name": "python",
   "nbconvert_exporter": "python",
   "pygments_lexer": "ipython3",
   "version": "3.9.5"
  }
 },
 "nbformat": 4,
 "nbformat_minor": 2
}
